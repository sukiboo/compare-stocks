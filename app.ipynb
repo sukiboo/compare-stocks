{
 "cells": [
  {
   "cell_type": "markdown",
   "id": "18f2ec94-fbdc-46d9-95eb-2702df8b461d",
   "metadata": {},
   "source": [
    "# Stock Comparison Tool\n",
    "\n",
    "Trying to implement something similar to https://www.barchart.com/myBarchart/quotes/SPY/interactive-chart but in Gradio.\n",
    "\n",
    "The code in the first code block of this notebook is executed when the `app.py` file is run. This notebook is used for the simplicity of interactive development and testing."
   ]
  },
  {
   "cell_type": "code",
   "execution_count": 1,
   "id": "7f55ba4f-62c1-499c-b38d-0a026159d146",
   "metadata": {},
   "outputs": [
    {
     "data": {
      "text/html": [
       "<div>\n",
       "<style scoped>\n",
       "    .dataframe tbody tr th:only-of-type {\n",
       "        vertical-align: middle;\n",
       "    }\n",
       "\n",
       "    .dataframe tbody tr th {\n",
       "        vertical-align: top;\n",
       "    }\n",
       "\n",
       "    .dataframe thead th {\n",
       "        text-align: right;\n",
       "    }\n",
       "</style>\n",
       "<table border=\"1\" class=\"dataframe\">\n",
       "  <thead>\n",
       "    <tr style=\"text-align: right;\">\n",
       "      <th>Ticker</th>\n",
       "      <th>AAPL</th>\n",
       "      <th>GOOGL</th>\n",
       "      <th>MSFT</th>\n",
       "    </tr>\n",
       "    <tr>\n",
       "      <th>Date</th>\n",
       "      <th></th>\n",
       "      <th></th>\n",
       "      <th></th>\n",
       "    </tr>\n",
       "  </thead>\n",
       "  <tbody>\n",
       "    <tr>\n",
       "      <th>1980-12-12</th>\n",
       "      <td>0.128348</td>\n",
       "      <td>2.511011</td>\n",
       "      <td>0.097222</td>\n",
       "    </tr>\n",
       "    <tr>\n",
       "      <th>1980-12-15</th>\n",
       "      <td>0.121652</td>\n",
       "      <td>2.511011</td>\n",
       "      <td>0.097222</td>\n",
       "    </tr>\n",
       "    <tr>\n",
       "      <th>1980-12-16</th>\n",
       "      <td>0.112723</td>\n",
       "      <td>2.511011</td>\n",
       "      <td>0.097222</td>\n",
       "    </tr>\n",
       "    <tr>\n",
       "      <th>1980-12-17</th>\n",
       "      <td>0.115513</td>\n",
       "      <td>2.511011</td>\n",
       "      <td>0.097222</td>\n",
       "    </tr>\n",
       "    <tr>\n",
       "      <th>1980-12-18</th>\n",
       "      <td>0.118862</td>\n",
       "      <td>2.511011</td>\n",
       "      <td>0.097222</td>\n",
       "    </tr>\n",
       "    <tr>\n",
       "      <th>...</th>\n",
       "      <td>...</td>\n",
       "      <td>...</td>\n",
       "      <td>...</td>\n",
       "    </tr>\n",
       "    <tr>\n",
       "      <th>2024-12-19</th>\n",
       "      <td>249.789993</td>\n",
       "      <td>188.509995</td>\n",
       "      <td>437.029999</td>\n",
       "    </tr>\n",
       "    <tr>\n",
       "      <th>2024-12-20</th>\n",
       "      <td>254.490005</td>\n",
       "      <td>191.410004</td>\n",
       "      <td>436.600006</td>\n",
       "    </tr>\n",
       "    <tr>\n",
       "      <th>2024-12-23</th>\n",
       "      <td>255.270004</td>\n",
       "      <td>194.630005</td>\n",
       "      <td>435.250000</td>\n",
       "    </tr>\n",
       "    <tr>\n",
       "      <th>2024-12-24</th>\n",
       "      <td>258.200012</td>\n",
       "      <td>196.110001</td>\n",
       "      <td>439.329987</td>\n",
       "    </tr>\n",
       "    <tr>\n",
       "      <th>2024-12-26</th>\n",
       "      <td>259.019989</td>\n",
       "      <td>195.600006</td>\n",
       "      <td>438.109985</td>\n",
       "    </tr>\n",
       "  </tbody>\n",
       "</table>\n",
       "<p>11102 rows × 3 columns</p>\n",
       "</div>"
      ],
      "text/plain": [
       "Ticker            AAPL       GOOGL        MSFT\n",
       "Date                                          \n",
       "1980-12-12    0.128348    2.511011    0.097222\n",
       "1980-12-15    0.121652    2.511011    0.097222\n",
       "1980-12-16    0.112723    2.511011    0.097222\n",
       "1980-12-17    0.115513    2.511011    0.097222\n",
       "1980-12-18    0.118862    2.511011    0.097222\n",
       "...                ...         ...         ...\n",
       "2024-12-19  249.789993  188.509995  437.029999\n",
       "2024-12-20  254.490005  191.410004  436.600006\n",
       "2024-12-23  255.270004  194.630005  435.250000\n",
       "2024-12-24  258.200012  196.110001  439.329987\n",
       "2024-12-26  259.019989  195.600006  438.109985\n",
       "\n",
       "[11102 rows x 3 columns]"
      ]
     },
     "execution_count": 1,
     "metadata": {},
     "output_type": "execute_result"
    }
   ],
   "source": [
    "from datetime import timedelta\n",
    "\n",
    "import gradio as gr\n",
    "import pandas as pd\n",
    "import yfinance as yf\n",
    "\n",
    "# retrieve historical stock prices\n",
    "tickers = [\"AAPL\", \"MSFT\", \"GOOGL\"]\n",
    "df = yf.download(\n",
    "    tickers,\n",
    "    interval=\"1d\",\n",
    "    period=\"max\",\n",
    "    progress=False,\n",
    ").Close.bfill()\n",
    "df"
   ]
  },
  {
   "cell_type": "code",
   "execution_count": 2,
   "id": "6d5edaff-cb53-43f7-a60e-1495e3f3361b",
   "metadata": {},
   "outputs": [
    {
     "name": "stdout",
     "output_type": "stream",
     "text": [
      "* Running on local URL:  http://127.0.0.1:7860\n",
      "\n",
      "To create a public link, set `share=True` in `launch()`.\n"
     ]
    },
    {
     "data": {
      "text/html": [
       "<div><iframe src=\"http://127.0.0.1:7860/\" width=\"100%\" height=\"500\" allow=\"autoplay; camera; microphone; clipboard-read; clipboard-write;\" frameborder=\"0\" allowfullscreen></iframe></div>"
      ],
      "text/plain": [
       "<IPython.core.display.HTML object>"
      ]
     },
     "metadata": {},
     "output_type": "display_data"
    },
    {
     "data": {
      "text/plain": []
     },
     "execution_count": 2,
     "metadata": {},
     "output_type": "execute_result"
    },
    {
     "name": "stderr",
     "output_type": "stream",
     "text": [
      "Traceback (most recent call last):\n",
      "  File \"/home/suki/conda/envs/dev/lib/python3.10/site-packages/gradio/queueing.py\", line 625, in process_events\n",
      "    response = await route_utils.call_process_api(\n",
      "  File \"/home/suki/conda/envs/dev/lib/python3.10/site-packages/gradio/route_utils.py\", line 322, in call_process_api\n",
      "    output = await app.get_blocks().process_api(\n",
      "  File \"/home/suki/conda/envs/dev/lib/python3.10/site-packages/gradio/blocks.py\", line 2047, in process_api\n",
      "    result = await self.call_function(\n",
      "  File \"/home/suki/conda/envs/dev/lib/python3.10/site-packages/gradio/blocks.py\", line 1594, in call_function\n",
      "    prediction = await anyio.to_thread.run_sync(  # type: ignore\n",
      "  File \"/home/suki/.local/lib/python3.10/site-packages/anyio/to_thread.py\", line 33, in run_sync\n",
      "    return await get_asynclib().run_sync_in_worker_thread(\n",
      "  File \"/home/suki/.local/lib/python3.10/site-packages/anyio/_backends/_asyncio.py\", line 877, in run_sync_in_worker_thread\n",
      "    return await future\n",
      "  File \"/home/suki/.local/lib/python3.10/site-packages/anyio/_backends/_asyncio.py\", line 807, in run\n",
      "    result = context.run(func, *args)\n",
      "  File \"/home/suki/conda/envs/dev/lib/python3.10/site-packages/gradio/utils.py\", line 869, in wrapper\n",
      "    response = f(*args, **kwargs)\n",
      "  File \"/tmp/ipykernel_38393/776070512.py\", line 5, in plot_asset_prices\n",
      "    df_normalized = df_normalized / df_normalized.iloc[0] - 1\n",
      "  File \"/home/suki/conda/envs/dev/lib/python3.10/site-packages/pandas/core/indexing.py\", line 1191, in __getitem__\n",
      "    return self._getitem_axis(maybe_callable, axis=axis)\n",
      "  File \"/home/suki/conda/envs/dev/lib/python3.10/site-packages/pandas/core/indexing.py\", line 1752, in _getitem_axis\n",
      "    self._validate_integer(key, axis)\n",
      "  File \"/home/suki/conda/envs/dev/lib/python3.10/site-packages/pandas/core/indexing.py\", line 1685, in _validate_integer\n",
      "    raise IndexError(\"single positional indexer is out-of-bounds\")\n",
      "IndexError: single positional indexer is out-of-bounds\n"
     ]
    }
   ],
   "source": [
    "def plot_asset_prices(period, shift):\n",
    "    end_date = df.index[-1] - timedelta(days=shift)\n",
    "    start_date = end_date - timedelta(days=period)\n",
    "    df_normalized = df[(df.index >= start_date) & (df.index <= end_date)]\n",
    "    df_normalized = df_normalized / df_normalized.iloc[0] - 1\n",
    "    df_normalized.reset_index(names=\"Date\", inplace=True)\n",
    "    return gr.LinePlot(\n",
    "        value=pd.melt(df_normalized, id_vars=[\"Date\"], var_name=\"Asset\", value_name=\"Price\"),\n",
    "        x=\"Date\",\n",
    "        y=\"Price\",\n",
    "        color=\"Asset\",\n",
    "        title=\"Normalized Asset Prices\",\n",
    "        y_title=\"Relative Change\",\n",
    "        x_label_angle=45,\n",
    "        # height=600,\n",
    "    )\n",
    "\n",
    "\n",
    "with gr.Blocks() as demo:\n",
    "    plot = plot_asset_prices(365, 0)\n",
    "    with gr.Row():\n",
    "        period = gr.Radio(\n",
    "            choices=[\n",
    "                (\"5y\", 5 * 365),\n",
    "                (\"3y\", 2 * 365),\n",
    "                (\"2y\", 2 * 365),\n",
    "                (\"1y\", 365),\n",
    "                (\"6mo\", 182),\n",
    "                (\"1mo\", 30),\n",
    "                (\"1w\", 7),\n",
    "            ],\n",
    "            value=365,\n",
    "            label=\"Period\",\n",
    "        )\n",
    "        shift = gr.Slider(minimum=0, maximum=365, value=0, label=\"End Date\")\n",
    "    period.change(plot_asset_prices, inputs=[period, shift], outputs=plot)\n",
    "    shift.change(plot_asset_prices, inputs=[period, shift], outputs=plot)\n",
    "\n",
    "demo.launch()"
   ]
  },
  {
   "cell_type": "code",
   "execution_count": null,
   "id": "bf524c52",
   "metadata": {},
   "outputs": [],
   "source": []
  },
  {
   "cell_type": "code",
   "execution_count": null,
   "id": "0576dc1c-66be-4fcc-9c9e-edbba3ab7c29",
   "metadata": {},
   "outputs": [],
   "source": []
  },
  {
   "cell_type": "code",
   "execution_count": 3,
   "id": "52829c7d-4bbd-4a26-9e1d-6ff3eda2193a",
   "metadata": {},
   "outputs": [
    {
     "name": "stdout",
     "output_type": "stream",
     "text": [
      "* Running on local URL:  http://127.0.0.1:7861\n",
      "\n",
      "To create a public link, set `share=True` in `launch()`.\n"
     ]
    },
    {
     "data": {
      "text/html": [
       "<div><iframe src=\"http://127.0.0.1:7861/\" width=\"100%\" height=\"500\" allow=\"autoplay; camera; microphone; clipboard-read; clipboard-write;\" frameborder=\"0\" allowfullscreen></iframe></div>"
      ],
      "text/plain": [
       "<IPython.core.display.HTML object>"
      ]
     },
     "metadata": {},
     "output_type": "display_data"
    },
    {
     "data": {
      "text/plain": []
     },
     "execution_count": 3,
     "metadata": {},
     "output_type": "execute_result"
    }
   ],
   "source": [
    "import gradio as gr\n",
    "import numpy as np\n",
    "import plotly.graph_objects as go\n",
    "\n",
    "# Sample data generation\n",
    "np.random.seed(42)\n",
    "dates = pd.date_range(start=\"2024-01-01\", periods=100, freq=\"D\")\n",
    "stocks = [\"Stock A\", \"Stock B\", \"Stock C\"]\n",
    "data = {stock: np.random.normal(loc=100, scale=10, size=len(dates)) for stock in stocks}\n",
    "df = pd.DataFrame(data, index=dates)\n",
    "\n",
    "# Normalize prices at t=0\n",
    "df_normalized = df / df.iloc[0] * 100\n",
    "df_normalized.reset_index(inplace=True)\n",
    "df_normalized = pd.melt(df_normalized, id_vars=[\"index\"], var_name=\"Stock\", value_name=\"Price\")\n",
    "df_normalized.rename(columns={\"index\": \"Date\"}, inplace=True)\n",
    "\n",
    "# Function to create the plot\n",
    "\n",
    "\n",
    "def create_plot():\n",
    "    fig = go.Figure()\n",
    "    for stock in df_normalized[\"Stock\"].unique():\n",
    "        stock_data = df_normalized[df_normalized[\"Stock\"] == stock]\n",
    "        fig.add_trace(\n",
    "            go.Scatter(x=stock_data[\"Date\"], y=stock_data[\"Price\"], mode=\"lines\", name=stock)\n",
    "        )\n",
    "    fig.update_layout(\n",
    "        title=\"Normalized Stock Prices\",\n",
    "        xaxis_title=\"Date\",\n",
    "        yaxis_title=\"Price\",\n",
    "        xaxis_rangeslider_visible=True,\n",
    "    )\n",
    "    return fig\n",
    "\n",
    "\n",
    "# Gradio interface\n",
    "with gr.Blocks() as demo:\n",
    "    plot = gr.Plot(create_plot)\n",
    "    gr.Markdown(\"Use the range slider below the plot to adjust the time frame.\")\n",
    "    gr.Markdown(\"You can also pan and zoom directly within the plot.\")\n",
    "\n",
    "demo.launch()"
   ]
  },
  {
   "cell_type": "code",
   "execution_count": null,
   "id": "b5f79bbc-e201-479e-a2db-ce734fca0443",
   "metadata": {},
   "outputs": [],
   "source": []
  },
  {
   "cell_type": "code",
   "execution_count": null,
   "id": "ca07470f-5bf8-4cdf-8e0b-4da6dcbd748b",
   "metadata": {},
   "outputs": [],
   "source": []
  },
  {
   "cell_type": "code",
   "execution_count": null,
   "id": "fb3c9f25-5d97-4b41-83ee-7032f83d5162",
   "metadata": {},
   "outputs": [],
   "source": []
  }
 ],
 "metadata": {
  "kernelspec": {
   "display_name": "dev",
   "language": "python",
   "name": "python3"
  },
  "language_info": {
   "codemirror_mode": {
    "name": "ipython",
    "version": 3
   },
   "file_extension": ".py",
   "mimetype": "text/x-python",
   "name": "python",
   "nbconvert_exporter": "python",
   "pygments_lexer": "ipython3",
   "version": "3.10.14"
  }
 },
 "nbformat": 4,
 "nbformat_minor": 5
}
