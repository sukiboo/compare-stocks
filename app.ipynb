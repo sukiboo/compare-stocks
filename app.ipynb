{
 "cells": [
  {
   "cell_type": "markdown",
   "id": "18f2ec94-fbdc-46d9-95eb-2702df8b461d",
   "metadata": {},
   "source": [
    "# Stock Comparison Tool\n",
    "\n",
    "Trying to implement something similar to https://www.barchart.com/myBarchart/quotes/SPY/interactive-chart but in ~~Gradio~~ Plotly + Dash.\n",
    "\n",
    "The actual app is run by Gunicorn via the `app.py` script. This notebook is used for interactive development and testing."
   ]
  },
  {
   "cell_type": "code",
   "execution_count": null,
   "id": "5d3ea548",
   "metadata": {},
   "outputs": [
    {
     "data": {
      "text/html": [
       "\n",
       "        <iframe\n",
       "            width=\"100%\"\n",
       "            height=\"650\"\n",
       "            src=\"http://0.0.0.0:8050/\"\n",
       "            frameborder=\"0\"\n",
       "            allowfullscreen\n",
       "            \n",
       "        ></iframe>\n",
       "        "
      ],
      "text/plain": [
       "<IPython.lib.display.IFrame at 0x7fa23c615030>"
      ]
     },
     "metadata": {},
     "output_type": "display_data"
    },
    {
     "name": "stdout",
     "output_type": "stream",
     "text": [
      "Selected tickers: AAPL, GOOGL, MSFT\n",
      "Selected tickers: AAPL, GOOGL, MSFT\n"
     ]
    }
   ],
   "source": [
    "from src.dash_app import NormalizedAssetPricesApp\n",
    "\n",
    "if __name__ == \"__main__\":\n",
    "    app = NormalizedAssetPricesApp()\n",
    "    app.run(host=\"0.0.0.0\", port=8050, debug=True)"
   ]
  },
  {
   "cell_type": "code",
   "execution_count": 2,
   "id": "46e8e6bc",
   "metadata": {},
   "outputs": [
    {
     "data": {
      "text/html": [
       "<div>\n",
       "<style scoped>\n",
       "    .dataframe tbody tr th:only-of-type {\n",
       "        vertical-align: middle;\n",
       "    }\n",
       "\n",
       "    .dataframe tbody tr th {\n",
       "        vertical-align: top;\n",
       "    }\n",
       "\n",
       "    .dataframe thead th {\n",
       "        text-align: right;\n",
       "    }\n",
       "</style>\n",
       "<table border=\"1\" class=\"dataframe\">\n",
       "  <thead>\n",
       "    <tr style=\"text-align: right;\">\n",
       "      <th>Ticker</th>\n",
       "      <th>AAPL</th>\n",
       "      <th>GOOGL</th>\n",
       "      <th>MSFT</th>\n",
       "    </tr>\n",
       "    <tr>\n",
       "      <th>Date</th>\n",
       "      <th></th>\n",
       "      <th></th>\n",
       "      <th></th>\n",
       "    </tr>\n",
       "  </thead>\n",
       "  <tbody>\n",
       "    <tr>\n",
       "      <th>1980-12-12</th>\n",
       "      <td>1.000000</td>\n",
       "      <td>1.000000</td>\n",
       "      <td>1.000000</td>\n",
       "    </tr>\n",
       "    <tr>\n",
       "      <th>1980-12-15</th>\n",
       "      <td>0.947829</td>\n",
       "      <td>1.000000</td>\n",
       "      <td>1.000000</td>\n",
       "    </tr>\n",
       "    <tr>\n",
       "      <th>1980-12-16</th>\n",
       "      <td>0.878261</td>\n",
       "      <td>1.000000</td>\n",
       "      <td>1.000000</td>\n",
       "    </tr>\n",
       "    <tr>\n",
       "      <th>1980-12-17</th>\n",
       "      <td>0.899998</td>\n",
       "      <td>1.000000</td>\n",
       "      <td>1.000000</td>\n",
       "    </tr>\n",
       "    <tr>\n",
       "      <th>1980-12-18</th>\n",
       "      <td>0.926092</td>\n",
       "      <td>1.000000</td>\n",
       "      <td>1.000000</td>\n",
       "    </tr>\n",
       "    <tr>\n",
       "      <th>...</th>\n",
       "      <td>...</td>\n",
       "      <td>...</td>\n",
       "      <td>...</td>\n",
       "    </tr>\n",
       "    <tr>\n",
       "      <th>2025-02-14</th>\n",
       "      <td>1905.756378</td>\n",
       "      <td>73.767102</td>\n",
       "      <td>4201.003797</td>\n",
       "    </tr>\n",
       "    <tr>\n",
       "      <th>2025-02-18</th>\n",
       "      <td>1904.743469</td>\n",
       "      <td>73.185666</td>\n",
       "      <td>4213.449766</td>\n",
       "    </tr>\n",
       "    <tr>\n",
       "      <th>2025-02-19</th>\n",
       "      <td>1907.859948</td>\n",
       "      <td>73.783035</td>\n",
       "      <td>4266.215337</td>\n",
       "    </tr>\n",
       "    <tr>\n",
       "      <th>2025-02-20</th>\n",
       "      <td>1915.339666</td>\n",
       "      <td>73.500278</td>\n",
       "      <td>4280.204103</td>\n",
       "    </tr>\n",
       "    <tr>\n",
       "      <th>2025-02-21</th>\n",
       "      <td>1913.158106</td>\n",
       "      <td>71.548875</td>\n",
       "      <td>4198.740922</td>\n",
       "    </tr>\n",
       "  </tbody>\n",
       "</table>\n",
       "<p>11139 rows × 3 columns</p>\n",
       "</div>"
      ],
      "text/plain": [
       "Ticker             AAPL      GOOGL         MSFT\n",
       "Date                                           \n",
       "1980-12-12     1.000000   1.000000     1.000000\n",
       "1980-12-15     0.947829   1.000000     1.000000\n",
       "1980-12-16     0.878261   1.000000     1.000000\n",
       "1980-12-17     0.899998   1.000000     1.000000\n",
       "1980-12-18     0.926092   1.000000     1.000000\n",
       "...                 ...        ...          ...\n",
       "2025-02-14  1905.756378  73.767102  4201.003797\n",
       "2025-02-18  1904.743469  73.185666  4213.449766\n",
       "2025-02-19  1907.859948  73.783035  4266.215337\n",
       "2025-02-20  1915.339666  73.500278  4280.204103\n",
       "2025-02-21  1913.158106  71.548875  4198.740922\n",
       "\n",
       "[11139 rows x 3 columns]"
      ]
     },
     "execution_count": 2,
     "metadata": {},
     "output_type": "execute_result"
    }
   ],
   "source": [
    "app.prices"
   ]
  },
  {
   "cell_type": "code",
   "execution_count": null,
   "id": "ab3d3e69",
   "metadata": {},
   "outputs": [],
   "source": []
  }
 ],
 "metadata": {
  "kernelspec": {
   "display_name": "dev",
   "language": "python",
   "name": "python3"
  },
  "language_info": {
   "codemirror_mode": {
    "name": "ipython",
    "version": 3
   },
   "file_extension": ".py",
   "mimetype": "text/x-python",
   "name": "python",
   "nbconvert_exporter": "python",
   "pygments_lexer": "ipython3",
   "version": "3.10.14"
  }
 },
 "nbformat": 4,
 "nbformat_minor": 5
}
