{
 "cells": [
  {
   "cell_type": "markdown",
   "id": "18f2ec94-fbdc-46d9-95eb-2702df8b461d",
   "metadata": {},
   "source": [
    "# Stock Comparison Tool\n",
    "\n",
    "Trying to implement something similar to https://www.barchart.com/myBarchart/quotes/SPY/interactive-chart but in Gradio.\n",
    "\n",
    "The code in the first code block of this notebook is executed when the `app.py` file is run. This notebook is used for the simplicity of interactive development and testing."
   ]
  },
  {
   "cell_type": "code",
   "execution_count": 87,
   "id": "7f55ba4f-62c1-499c-b38d-0a026159d146",
   "metadata": {},
   "outputs": [
    {
     "data": {
      "text/html": [
       "<div>\n",
       "<style scoped>\n",
       "    .dataframe tbody tr th:only-of-type {\n",
       "        vertical-align: middle;\n",
       "    }\n",
       "\n",
       "    .dataframe tbody tr th {\n",
       "        vertical-align: top;\n",
       "    }\n",
       "\n",
       "    .dataframe thead th {\n",
       "        text-align: right;\n",
       "    }\n",
       "</style>\n",
       "<table border=\"1\" class=\"dataframe\">\n",
       "  <thead>\n",
       "    <tr style=\"text-align: right;\">\n",
       "      <th>Ticker</th>\n",
       "      <th>AAPL</th>\n",
       "      <th>GOOGL</th>\n",
       "      <th>MSFT</th>\n",
       "    </tr>\n",
       "    <tr>\n",
       "      <th>Date</th>\n",
       "      <th></th>\n",
       "      <th></th>\n",
       "      <th></th>\n",
       "    </tr>\n",
       "  </thead>\n",
       "  <tbody>\n",
       "    <tr>\n",
       "      <th>1980-12-12</th>\n",
       "      <td>0.128348</td>\n",
       "      <td>2.511011</td>\n",
       "      <td>0.097222</td>\n",
       "    </tr>\n",
       "    <tr>\n",
       "      <th>1980-12-15</th>\n",
       "      <td>0.121652</td>\n",
       "      <td>2.511011</td>\n",
       "      <td>0.097222</td>\n",
       "    </tr>\n",
       "    <tr>\n",
       "      <th>1980-12-16</th>\n",
       "      <td>0.112723</td>\n",
       "      <td>2.511011</td>\n",
       "      <td>0.097222</td>\n",
       "    </tr>\n",
       "    <tr>\n",
       "      <th>1980-12-17</th>\n",
       "      <td>0.115513</td>\n",
       "      <td>2.511011</td>\n",
       "      <td>0.097222</td>\n",
       "    </tr>\n",
       "    <tr>\n",
       "      <th>1980-12-18</th>\n",
       "      <td>0.118862</td>\n",
       "      <td>2.511011</td>\n",
       "      <td>0.097222</td>\n",
       "    </tr>\n",
       "    <tr>\n",
       "      <th>...</th>\n",
       "      <td>...</td>\n",
       "      <td>...</td>\n",
       "      <td>...</td>\n",
       "    </tr>\n",
       "    <tr>\n",
       "      <th>2024-11-04</th>\n",
       "      <td>222.009995</td>\n",
       "      <td>169.240005</td>\n",
       "      <td>408.459991</td>\n",
       "    </tr>\n",
       "    <tr>\n",
       "      <th>2024-11-05</th>\n",
       "      <td>223.449997</td>\n",
       "      <td>169.740005</td>\n",
       "      <td>411.459991</td>\n",
       "    </tr>\n",
       "    <tr>\n",
       "      <th>2024-11-06</th>\n",
       "      <td>222.720001</td>\n",
       "      <td>176.509995</td>\n",
       "      <td>420.179993</td>\n",
       "    </tr>\n",
       "    <tr>\n",
       "      <th>2024-11-07</th>\n",
       "      <td>227.479996</td>\n",
       "      <td>180.750000</td>\n",
       "      <td>425.429993</td>\n",
       "    </tr>\n",
       "    <tr>\n",
       "      <th>2024-11-08</th>\n",
       "      <td>226.960007</td>\n",
       "      <td>178.350006</td>\n",
       "      <td>422.540009</td>\n",
       "    </tr>\n",
       "  </tbody>\n",
       "</table>\n",
       "<p>11070 rows × 3 columns</p>\n",
       "</div>"
      ],
      "text/plain": [
       "Ticker            AAPL       GOOGL        MSFT\n",
       "Date                                          \n",
       "1980-12-12    0.128348    2.511011    0.097222\n",
       "1980-12-15    0.121652    2.511011    0.097222\n",
       "1980-12-16    0.112723    2.511011    0.097222\n",
       "1980-12-17    0.115513    2.511011    0.097222\n",
       "1980-12-18    0.118862    2.511011    0.097222\n",
       "...                ...         ...         ...\n",
       "2024-11-04  222.009995  169.240005  408.459991\n",
       "2024-11-05  223.449997  169.740005  411.459991\n",
       "2024-11-06  222.720001  176.509995  420.179993\n",
       "2024-11-07  227.479996  180.750000  425.429993\n",
       "2024-11-08  226.960007  178.350006  422.540009\n",
       "\n",
       "[11070 rows x 3 columns]"
      ]
     },
     "execution_count": 87,
     "metadata": {},
     "output_type": "execute_result"
    }
   ],
   "source": [
    "import yfinance as yf\n",
    "import pandas as pd\n",
    "import gradio as gr\n",
    "from datetime import timedelta\n",
    "\n",
    "# retrieve historical stock prices\n",
    "tickers = ['AAPL', 'MSFT', 'GOOGL']\n",
    "df = yf.download(\n",
    "    tickers,\n",
    "    interval=\"1d\",\n",
    "    period=\"max\",\n",
    "    progress=False,\n",
    ").Close.bfill()\n",
    "df"
   ]
  },
  {
   "cell_type": "code",
   "execution_count": 96,
   "id": "6d5edaff-cb53-43f7-a60e-1495e3f3361b",
   "metadata": {},
   "outputs": [
    {
     "name": "stdout",
     "output_type": "stream",
     "text": [
      "* Running on local URL:  http://127.0.0.1:7905\n",
      "\n",
      "To create a public link, set `share=True` in `launch()`.\n"
     ]
    },
    {
     "data": {
      "text/html": [
       "<div><iframe src=\"http://127.0.0.1:7905/\" width=\"100%\" height=\"500\" allow=\"autoplay; camera; microphone; clipboard-read; clipboard-write;\" frameborder=\"0\" allowfullscreen></iframe></div>"
      ],
      "text/plain": [
       "<IPython.core.display.HTML object>"
      ]
     },
     "metadata": {},
     "output_type": "display_data"
    },
    {
     "data": {
      "text/plain": []
     },
     "execution_count": 96,
     "metadata": {},
     "output_type": "execute_result"
    }
   ],
   "source": [
    "\n",
    "def plot_asset_prices(period, shift):\n",
    "    end_date = df.index[-1] - timedelta(days=shift)\n",
    "    start_date = end_date - timedelta(days=period)\n",
    "    df_normalized = df[(df.index >= start_date) & (df.index <= end_date)]\n",
    "    df_normalized = df_normalized / df_normalized.iloc[0] - 1\n",
    "    df_normalized.reset_index(names='Date', inplace=True)\n",
    "    return gr.LinePlot(\n",
    "        value=pd.melt(df_normalized, id_vars=['Date'], var_name='Asset', value_name='Price'),\n",
    "        x='Date',\n",
    "        y='Price',\n",
    "        color='Asset',\n",
    "        title=\"Normalized Asset Prices\",\n",
    "        y_title=\"Relative Change\",\n",
    "        x_label_angle=45,\n",
    "        # height=600,\n",
    "    )\n",
    "\n",
    "\n",
    "with gr.Blocks() as demo:\n",
    "    plot = plot_asset_prices(365, 0)\n",
    "    with gr.Row():\n",
    "        period = gr.Radio(\n",
    "            choices=[('5y', 5*365), ('3y', 2*365), ('2y', 2*365), ('1y', 365), ('6mo', 182), ('1mo', 30), ('1w', 7)],\n",
    "            value=365,\n",
    "            label=\"Period\",\n",
    "        )\n",
    "        shift = gr.Slider(minimum=0, maximum=365, value=0, label=\"End Date\")\n",
    "    period.change(plot_asset_prices, inputs=[period, shift], outputs=plot)\n",
    "    shift.change(plot_asset_prices, inputs=[period, shift], outputs=plot)\n",
    "\n",
    "demo.launch()\n"
   ]
  },
  {
   "cell_type": "code",
   "execution_count": null,
   "id": "0576dc1c-66be-4fcc-9c9e-edbba3ab7c29",
   "metadata": {},
   "outputs": [],
   "source": []
  },
  {
   "cell_type": "code",
   "execution_count": 78,
   "id": "52829c7d-4bbd-4a26-9e1d-6ff3eda2193a",
   "metadata": {},
   "outputs": [
    {
     "name": "stdout",
     "output_type": "stream",
     "text": [
      "* Running on local URL:  http://127.0.0.1:7889\n",
      "\n",
      "To create a public link, set `share=True` in `launch()`.\n"
     ]
    },
    {
     "data": {
      "text/html": [
       "<div><iframe src=\"http://127.0.0.1:7889/\" width=\"100%\" height=\"500\" allow=\"autoplay; camera; microphone; clipboard-read; clipboard-write;\" frameborder=\"0\" allowfullscreen></iframe></div>"
      ],
      "text/plain": [
       "<IPython.core.display.HTML object>"
      ]
     },
     "metadata": {},
     "output_type": "display_data"
    },
    {
     "data": {
      "text/plain": []
     },
     "execution_count": 78,
     "metadata": {},
     "output_type": "execute_result"
    }
   ],
   "source": [
    "import gradio as gr\n",
    "import pandas as pd\n",
    "import numpy as np\n",
    "import plotly.graph_objects as go\n",
    "\n",
    "# Sample data generation\n",
    "np.random.seed(42)\n",
    "dates = pd.date_range(start='2024-01-01', periods=100, freq='D')\n",
    "stocks = ['Stock A', 'Stock B', 'Stock C']\n",
    "data = {stock: np.random.normal(loc=100, scale=10, size=len(dates)) for stock in stocks}\n",
    "df = pd.DataFrame(data, index=dates)\n",
    "\n",
    "# Normalize prices at t=0\n",
    "df_normalized = df / df.iloc[0] * 100\n",
    "df_normalized.reset_index(inplace=True)\n",
    "df_normalized = pd.melt(df_normalized, id_vars=['index'], var_name='Stock', value_name='Price')\n",
    "df_normalized.rename(columns={'index': 'Date'}, inplace=True)\n",
    "\n",
    "# Function to create the plot\n",
    "def create_plot():\n",
    "    fig = go.Figure()\n",
    "    for stock in df_normalized['Stock'].unique():\n",
    "        stock_data = df_normalized[df_normalized['Stock'] == stock]\n",
    "        fig.add_trace(go.Scatter(x=stock_data['Date'], y=stock_data['Price'], mode='lines', name=stock))\n",
    "    fig.update_layout(title='Normalized Stock Prices', xaxis_title='Date', yaxis_title='Price',\n",
    "                      xaxis_rangeslider_visible=True)\n",
    "    return fig\n",
    "\n",
    "# Gradio interface\n",
    "with gr.Blocks() as demo:\n",
    "    plot = gr.Plot(create_plot)\n",
    "    gr.Markdown(\"Use the range slider below the plot to adjust the time frame.\")\n",
    "    gr.Markdown(\"You can also pan and zoom directly within the plot.\")\n",
    "\n",
    "demo.launch()\n"
   ]
  },
  {
   "cell_type": "code",
   "execution_count": null,
   "id": "b5f79bbc-e201-479e-a2db-ce734fca0443",
   "metadata": {},
   "outputs": [],
   "source": []
  },
  {
   "cell_type": "code",
   "execution_count": null,
   "id": "ca07470f-5bf8-4cdf-8e0b-4da6dcbd748b",
   "metadata": {},
   "outputs": [],
   "source": []
  },
  {
   "cell_type": "code",
   "execution_count": null,
   "id": "fb3c9f25-5d97-4b41-83ee-7032f83d5162",
   "metadata": {},
   "outputs": [],
   "source": []
  }
 ],
 "metadata": {
  "kernelspec": {
   "display_name": "dev",
   "language": "python",
   "name": "python3"
  },
  "language_info": {
   "codemirror_mode": {
    "name": "ipython",
    "version": 3
   },
   "file_extension": ".py",
   "mimetype": "text/x-python",
   "name": "python",
   "nbconvert_exporter": "python",
   "pygments_lexer": "ipython3",
   "version": "3.10.14"
  }
 },
 "nbformat": 4,
 "nbformat_minor": 5
}
