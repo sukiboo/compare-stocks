{
 "cells": [
  {
   "cell_type": "markdown",
   "id": "18f2ec94-fbdc-46d9-95eb-2702df8b461d",
   "metadata": {},
   "source": [
    "# Stock Comparison Tool\n",
    "\n",
    "Trying to implement something similar to https://www.barchart.com/myBarchart/quotes/SPY/interactive-chart but in ~~Gradio~~ Plotly + Dash.\n",
    "\n",
    "The actual app is run by Gunicorn via the `app.py` script. This notebook is used for interactive development and testing."
   ]
  },
  {
   "cell_type": "code",
   "execution_count": 1,
   "id": "5d3ea548",
   "metadata": {},
   "outputs": [
    {
     "data": {
      "text/html": [
       "\n",
       "        <iframe\n",
       "            width=\"100%\"\n",
       "            height=\"650\"\n",
       "            src=\"http://0.0.0.0:8050/\"\n",
       "            frameborder=\"0\"\n",
       "            allowfullscreen\n",
       "            \n",
       "        ></iframe>\n",
       "        "
      ],
      "text/plain": [
       "<IPython.lib.display.IFrame at 0x1213c81a0>"
      ]
     },
     "metadata": {},
     "output_type": "display_data"
    },
    {
     "name": "stdout",
     "output_type": "stream",
     "text": [
      "interval update: date_range=['2024-10-02 16:16:04.501', '2025-10-14']\n",
      "interval update: date_range=['2024-09-28 10:22:06.1889', '2025-10-14']\n",
      "interval update: date_range=['2024-09-18 12:36:10.1273', '2025-10-14']\n",
      "interval update: date_range=['2024-09-08 14:50:14.0656', '2025-10-14']\n",
      "interval update: date_range=['2024-08-31 03:02:17.4414', '2025-10-14']\n",
      "tickers update: SPLG, IEFA, JCBUX, LGBNX, MWTSX, HGIFX, JPPEX, TROIX, PHYQX, CGMXX, MEMJX, DFSTX, PFORX, DFISX, MEDHX, VTI\n",
      "interval update: date_range=['2024-09-11 01:59:35.8875', '2025-10-14']\n",
      "tickers update: SPLG, JCBUX, LGBNX, MWTSX, HGIFX, JPPEX, TROIX, PHYQX, CGMXX, MEMJX, DFSTX, PFORX, DFISX, MEDHX, VTI\n",
      "tickers update: SPLG, LGBNX, MWTSX, HGIFX, JPPEX, TROIX, PHYQX, CGMXX, MEMJX, DFSTX, PFORX, DFISX, MEDHX, VTI\n",
      "tickers update: SPLG, MWTSX, HGIFX, JPPEX, TROIX, PHYQX, CGMXX, MEMJX, DFSTX, PFORX, DFISX, MEDHX, VTI\n",
      "tickers update: SPLG, HGIFX, JPPEX, TROIX, PHYQX, CGMXX, MEMJX, DFSTX, PFORX, DFISX, MEDHX, VTI\n",
      "tickers update: SPLG, JPPEX, TROIX, PHYQX, CGMXX, MEMJX, DFSTX, PFORX, DFISX, MEDHX, VTI\n",
      "tickers update: SPLG, TROIX, PHYQX, CGMXX, MEMJX, DFSTX, PFORX, DFISX, MEDHX, VTI\n",
      "tickers update: SPLG, PHYQX, CGMXX, MEMJX, DFSTX, PFORX, DFISX, MEDHX, VTI\n",
      "tickers update: SPLG, CGMXX, MEMJX, DFSTX, PFORX, DFISX, MEDHX, VTI\n",
      "tickers update: SPLG, MEMJX, DFSTX, PFORX, DFISX, MEDHX, VTI\n",
      "tickers update: SPLG, DFSTX, PFORX, DFISX, MEDHX, VTI\n",
      "tickers update: SPLG, PFORX, DFISX, MEDHX, VTI\n",
      "tickers update: SPLG, DFISX, MEDHX, VTI\n",
      "tickers update: SPLG, MEDHX, VTI\n",
      "tickers update: SPLG, VTI\n",
      "tickers update: VTI\n",
      "interval update: date_range=['2025-02-18 17:54:27.2472', '2025-10-14']\n",
      "interval update: date_range=['2023-10-15', '2025-10-14']\n",
      "interval update: date_range=['2020-10-15', '2025-10-14']\n",
      "interval update: date_range=['2025-01-01', '2025-10-14']\n",
      "interval update: date_range=['2022-10-15', '2025-10-14']\n",
      "interval update: date_range=['2023-10-15', '2025-10-14']\n"
     ]
    }
   ],
   "source": [
    "from src.dash_app import NormalizedAssetPricesApp\n",
    "\n",
    "if __name__ == \"__main__\":\n",
    "    app = NormalizedAssetPricesApp()\n",
    "    app.run(host=\"0.0.0.0\", port=8050, debug=True)"
   ]
  },
  {
   "cell_type": "code",
   "execution_count": null,
   "id": "9aa5b425",
   "metadata": {},
   "outputs": [],
   "source": []
  },
  {
   "cell_type": "code",
   "execution_count": null,
   "id": "58cf20a0",
   "metadata": {},
   "outputs": [],
   "source": []
  }
 ],
 "metadata": {
  "kernelspec": {
   "display_name": "dev",
   "language": "python",
   "name": "python3"
  },
  "language_info": {
   "codemirror_mode": {
    "name": "ipython",
    "version": 3
   },
   "file_extension": ".py",
   "mimetype": "text/x-python",
   "name": "python",
   "nbconvert_exporter": "python",
   "pygments_lexer": "ipython3",
   "version": "3.12.11"
  }
 },
 "nbformat": 4,
 "nbformat_minor": 5
}
